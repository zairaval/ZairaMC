{
 "cells": [
  {
   "cell_type": "markdown",
   "id": "ab86a745",
   "metadata": {},
   "source": [
    "# Mental health\n",
    "\n",
    "[dataset](https://www.kaggle.com/datasets/imtkaggleteam/mental-health)"
   ]
  },
  {
   "cell_type": "markdown",
   "id": "b30befb5",
   "metadata": {},
   "source": [
    "- Crear una función llamada \"df_ordered\" que reciba un dataframe y un str y retorne un dataframe ordenado de mayor a menor considerando la característica str\n",
    "- Crear una función llamada \"plot_bar\" que reciba un dataframe y un str y haga el plot de barras de ese dataframe considerando esa caracterísitca descrita por el string \n",
    "- países con mayor depresión\n",
    "- gráfica de barras mostrando el valor de depresión y la entidad (país)\n",
    "- países con mayor desorden alimenticio\n",
    "- gráfica de barras mostrando el valor de desorden alimenticio y la entidad (país)\n",
    "- países con mayor esquizofrenia\n",
    "- gráfica de barras mostrando el valor de esquizofrenia y la entidad (país)\n",
    "- crear un data frame con los valores por país de [\"Entity\tCode\", \"Year\", \"Schizophrenia disorders\", \"Depressive disorders\", \"Anxiety disorders\", \"Bipolar disorders\", \"Eating disorders\"]\n",
    "- mostrar los estadísticos del dataframe anterior\n",
    "- mostrar la distribución de cada feature del dataframe anterior\n",
    "- mostrar en un mapa de color la correlación entre las features [\"Schizophrenia disorders\", \"Depressive disorders\", \"Anxiety disorders\", \"Bipolar disorders\", \"Eating disorders\"]"
   ]
  },
  {
   "metadata": {},
   "cell_type": "markdown",
   "source": [
    "Del dataset cancer_reg visto en clase, determinar:\n",
    "- la correlación entre las features [\n",
    "    'target_deathrate', 'avganncount', 'avgdeathsperyear',\n",
    "    'incidencerate', 'medincome', 'povertypercent', \n",
    "    'pctprivatecoverage', 'pctpubliccoverage'\n",
    "]\n",
    "- mostrar la distribución de cada feature del dataframe anterior\n",
    "- aquellos que dependencia lineal encontrar los valores de la recta.\n",
    "hint: scipy"
   ],
   "id": "45e2e676"
  },
  {
   "metadata": {
    "ExecuteTime": {
     "end_time": "2024-10-15T15:38:37.310369Z",
     "start_time": "2024-10-15T15:38:37.301472Z"
    }
   },
   "cell_type": "code",
   "source": [
    "import pandas as pd\n",
    "import matplotlib.pyplot as plt\n",
    "import seaborn as sns\n",
    "\n",
    "# Cargar el dataset\n",
    "df = pd.read_csv('1- mental-illnesses-prevalence.csv')"
   ],
   "id": "f1aec001cfe6c098",
   "outputs": [],
   "execution_count": 1
  },
  {
   "metadata": {
    "ExecuteTime": {
     "end_time": "2024-10-15T15:38:37.315190Z",
     "start_time": "2024-10-15T15:38:37.313303Z"
    }
   },
   "cell_type": "code",
   "source": [
    "# Función para ordenar el dataframe por una columna dada en orden descendente\n",
    "def df_ordered(df, column):\n",
    "    return df.sort_values(by=column, ascending=False)"
   ],
   "id": "34131bb74cac194",
   "outputs": [],
   "execution_count": 2
  },
  {
   "metadata": {
    "ExecuteTime": {
     "end_time": "2024-10-15T15:38:38.857686Z",
     "start_time": "2024-10-15T15:38:38.852338Z"
    }
   },
   "cell_type": "code",
   "source": [
    " # Función para hacer un plot de barras para una columna dada en el dataframe\n",
    "def plot_bar(df, column):\n",
    "    plt.figure(figsize=(10, 6))\n",
    "    sns.barplot(x=column, y='Entity', data=df)\n",
    "    plt.title(f'Bar plot of {column} by Country')\n",
    "    plt.xlabel(column)\n",
    "    plt.ylabel('Country')\n",
    "    plt.show()\n",
    "    \n",
    "    "
   ],
   "id": "619c470aff197a33",
   "outputs": [],
   "execution_count": 3
  },
  {
   "metadata": {
    "ExecuteTime": {
     "end_time": "2024-10-15T15:38:42.380768Z",
     "start_time": "2024-10-15T15:38:42.374812Z"
    }
   },
   "cell_type": "code",
   "source": [
    "# Crear un nuevo dataframe con las columnas seleccionadas\n",
    "selected_columns = [\"Entity\", \"Code\", \"Year\", \"Schizophrenia disorders\", \"Depressive disorders\", \"Anxiety disorders\", \"Bipolar disorders\", \"Eating disorders\"]\n",
    "df_selected = df[selected_columns]"
   ],
   "id": "902f39fa7fbc16eb",
   "outputs": [],
   "execution_count": 4
  }
 ],
 "metadata": {
  "kernelspec": {
   "display_name": "Python 3 (ipykernel)",
   "language": "python",
   "name": "python3"
  },
  "language_info": {
   "codemirror_mode": {
    "name": "ipython",
    "version": 3
   },
   "file_extension": ".py",
   "mimetype": "text/x-python",
   "name": "python",
   "nbconvert_exporter": "python",
   "pygments_lexer": "ipython3",
   "version": "3.9.7"
  }
 },
 "nbformat": 4,
 "nbformat_minor": 5
}
